{
 "cells": [
  {
   "cell_type": "markdown",
   "metadata": {},
   "source": [
    "# Multiple regression\n",
    "\n",
    "In this notebook we see how to calculate the regression equation linking UK imports to GDP and to the price of imports.  This was used in the second of the chapters on regression in the book, so we show how to replicate those results."
   ]
  },
  {
   "cell_type": "markdown",
   "metadata": {},
   "source": [
    "First import some libraries we will need for data analysis, in particular, regression:"
   ]
  },
  {
   "cell_type": "code",
   "execution_count": 1,
   "metadata": {},
   "outputs": [],
   "source": [
    "import pandas as pd\n",
    "import numpy as np\n",
    "import matplotlib.pyplot as plt\n",
    "import statsmodels.formula.api as smf               # This provides the regression modelling routines\n",
    "import statsmodels.api as sm2\n",
    "from pandas import DataFrame                        # Needed for manipulating data into the dataframe"
   ]
  },
  {
   "cell_type": "markdown",
   "metadata": {},
   "source": [
    "Now, read in a data file, into the dataframe 'df'.  As in the book, contains data on imports, GDP (both nominal), the GDP deflator, an import price index and the RPI.  Data are from 1973-2010."
   ]
  },
  {
   "cell_type": "code",
   "execution_count": 2,
   "metadata": {},
   "outputs": [
    {
     "data": {
      "text/html": [
       "<div>\n",
       "<style scoped>\n",
       "    .dataframe tbody tr th:only-of-type {\n",
       "        vertical-align: middle;\n",
       "    }\n",
       "\n",
       "    .dataframe tbody tr th {\n",
       "        vertical-align: top;\n",
       "    }\n",
       "\n",
       "    .dataframe thead th {\n",
       "        text-align: right;\n",
       "    }\n",
       "</style>\n",
       "<table border=\"1\" class=\"dataframe\">\n",
       "  <thead>\n",
       "    <tr style=\"text-align: right;\">\n",
       "      <th></th>\n",
       "      <th>year</th>\n",
       "      <th>nom_imports</th>\n",
       "      <th>nom_gdp</th>\n",
       "      <th>gdp_defl</th>\n",
       "      <th>nom_price_m</th>\n",
       "      <th>rpi</th>\n",
       "    </tr>\n",
       "  </thead>\n",
       "  <tbody>\n",
       "    <tr>\n",
       "      <th>0</th>\n",
       "      <td>1973</td>\n",
       "      <td>18.8</td>\n",
       "      <td>74.0</td>\n",
       "      <td>24.6</td>\n",
       "      <td>21.5</td>\n",
       "      <td>25.1</td>\n",
       "    </tr>\n",
       "    <tr>\n",
       "      <th>1</th>\n",
       "      <td>1974</td>\n",
       "      <td>27.0</td>\n",
       "      <td>83.8</td>\n",
       "      <td>28.7</td>\n",
       "      <td>31.3</td>\n",
       "      <td>29.1</td>\n",
       "    </tr>\n",
       "    <tr>\n",
       "      <th>2</th>\n",
       "      <td>1975</td>\n",
       "      <td>28.7</td>\n",
       "      <td>105.9</td>\n",
       "      <td>35.7</td>\n",
       "      <td>35.6</td>\n",
       "      <td>36.1</td>\n",
       "    </tr>\n",
       "    <tr>\n",
       "      <th>3</th>\n",
       "      <td>1976</td>\n",
       "      <td>36.5</td>\n",
       "      <td>125.2</td>\n",
       "      <td>41.4</td>\n",
       "      <td>43.6</td>\n",
       "      <td>42.1</td>\n",
       "    </tr>\n",
       "    <tr>\n",
       "      <th>4</th>\n",
       "      <td>1977</td>\n",
       "      <td>42.3</td>\n",
       "      <td>145.7</td>\n",
       "      <td>47.0</td>\n",
       "      <td>50.5</td>\n",
       "      <td>48.8</td>\n",
       "    </tr>\n",
       "  </tbody>\n",
       "</table>\n",
       "</div>"
      ],
      "text/plain": [
       "   year  nom_imports  nom_gdp  gdp_defl  nom_price_m   rpi\n",
       "0  1973         18.8     74.0      24.6         21.5  25.1\n",
       "1  1974         27.0     83.8      28.7         31.3  29.1\n",
       "2  1975         28.7    105.9      35.7         35.6  36.1\n",
       "3  1976         36.5    125.2      41.4         43.6  42.1\n",
       "4  1977         42.3    145.7      47.0         50.5  48.8"
      ]
     },
     "execution_count": 2,
     "metadata": {},
     "output_type": "execute_result"
    }
   ],
   "source": [
    "df = pd.read_csv('imports.csv')\n",
    "df.head()               "
   ]
  },
  {
   "cell_type": "markdown",
   "metadata": {},
   "source": [
    "Checking the final observations:"
   ]
  },
  {
   "cell_type": "code",
   "execution_count": 3,
   "metadata": {},
   "outputs": [
    {
     "data": {
      "text/html": [
       "<div>\n",
       "<style scoped>\n",
       "    .dataframe tbody tr th:only-of-type {\n",
       "        vertical-align: middle;\n",
       "    }\n",
       "\n",
       "    .dataframe tbody tr th {\n",
       "        vertical-align: top;\n",
       "    }\n",
       "\n",
       "    .dataframe thead th {\n",
       "        text-align: right;\n",
       "    }\n",
       "</style>\n",
       "<table border=\"1\" class=\"dataframe\">\n",
       "  <thead>\n",
       "    <tr style=\"text-align: right;\">\n",
       "      <th></th>\n",
       "      <th>year</th>\n",
       "      <th>nom_imports</th>\n",
       "      <th>nom_gdp</th>\n",
       "      <th>gdp_defl</th>\n",
       "      <th>nom_price_m</th>\n",
       "      <th>rpi</th>\n",
       "    </tr>\n",
       "  </thead>\n",
       "  <tbody>\n",
       "    <tr>\n",
       "      <th>33</th>\n",
       "      <td>2006</td>\n",
       "      <td>411.7</td>\n",
       "      <td>1297.3</td>\n",
       "      <td>211.7</td>\n",
       "      <td>113.9</td>\n",
       "      <td>209.3</td>\n",
       "    </tr>\n",
       "    <tr>\n",
       "      <th>34</th>\n",
       "      <td>2007</td>\n",
       "      <td>408.6</td>\n",
       "      <td>1372.6</td>\n",
       "      <td>218.1</td>\n",
       "      <td>113.9</td>\n",
       "      <td>218.3</td>\n",
       "    </tr>\n",
       "    <tr>\n",
       "      <th>35</th>\n",
       "      <td>2008</td>\n",
       "      <td>453.1</td>\n",
       "      <td>1400.1</td>\n",
       "      <td>224.5</td>\n",
       "      <td>130.2</td>\n",
       "      <td>227.0</td>\n",
       "    </tr>\n",
       "    <tr>\n",
       "      <th>36</th>\n",
       "      <td>2009</td>\n",
       "      <td>413.1</td>\n",
       "      <td>1361.0</td>\n",
       "      <td>227.8</td>\n",
       "      <td>133.1</td>\n",
       "      <td>225.8</td>\n",
       "    </tr>\n",
       "    <tr>\n",
       "      <th>37</th>\n",
       "      <td>2010</td>\n",
       "      <td>468.4</td>\n",
       "      <td>1429.2</td>\n",
       "      <td>234.4</td>\n",
       "      <td>140.9</td>\n",
       "      <td>236.3</td>\n",
       "    </tr>\n",
       "  </tbody>\n",
       "</table>\n",
       "</div>"
      ],
      "text/plain": [
       "    year  nom_imports  nom_gdp  gdp_defl  nom_price_m    rpi\n",
       "33  2006        411.7   1297.3     211.7        113.9  209.3\n",
       "34  2007        408.6   1372.6     218.1        113.9  218.3\n",
       "35  2008        453.1   1400.1     224.5        130.2  227.0\n",
       "36  2009        413.1   1361.0     227.8        133.1  225.8\n",
       "37  2010        468.4   1429.2     234.4        140.9  236.3"
      ]
     },
     "execution_count": 3,
     "metadata": {},
     "output_type": "execute_result"
    }
   ],
   "source": [
    "df.tail()"
   ]
  },
  {
   "cell_type": "markdown",
   "metadata": {},
   "source": [
    "## Data transformations\n",
    "Most economic relationships are defined in real terms, so we create real value series for imports, GDP and the price of imports.  These are the important variables we shall use so are labelled simply as 'imports', 'price_m' and 'gdp'."
   ]
  },
  {
   "cell_type": "code",
   "execution_count": 4,
   "metadata": {},
   "outputs": [],
   "source": [
    "df['imports'] = df['nom_imports'] / df['nom_price_m'] * 100\n",
    "df['price_m'] = df['nom_price_m'] / df['rpi'] * 133.3\n",
    "df['gdp'] = df['nom_gdp'] / df['gdp_defl'] * 134.1"
   ]
  },
  {
   "cell_type": "code",
   "execution_count": 5,
   "metadata": {},
   "outputs": [
    {
     "data": {
      "text/html": [
       "<div>\n",
       "<style scoped>\n",
       "    .dataframe tbody tr th:only-of-type {\n",
       "        vertical-align: middle;\n",
       "    }\n",
       "\n",
       "    .dataframe tbody tr th {\n",
       "        vertical-align: top;\n",
       "    }\n",
       "\n",
       "    .dataframe thead th {\n",
       "        text-align: right;\n",
       "    }\n",
       "</style>\n",
       "<table border=\"1\" class=\"dataframe\">\n",
       "  <thead>\n",
       "    <tr style=\"text-align: right;\">\n",
       "      <th></th>\n",
       "      <th>year</th>\n",
       "      <th>nom_imports</th>\n",
       "      <th>nom_gdp</th>\n",
       "      <th>gdp_defl</th>\n",
       "      <th>nom_price_m</th>\n",
       "      <th>rpi</th>\n",
       "      <th>imports</th>\n",
       "      <th>price_m</th>\n",
       "      <th>gdp</th>\n",
       "    </tr>\n",
       "  </thead>\n",
       "  <tbody>\n",
       "    <tr>\n",
       "      <th>0</th>\n",
       "      <td>1973</td>\n",
       "      <td>18.8</td>\n",
       "      <td>74.0</td>\n",
       "      <td>24.6</td>\n",
       "      <td>21.5</td>\n",
       "      <td>25.1</td>\n",
       "      <td>87.441860</td>\n",
       "      <td>114.181275</td>\n",
       "      <td>403.390244</td>\n",
       "    </tr>\n",
       "    <tr>\n",
       "      <th>1</th>\n",
       "      <td>1974</td>\n",
       "      <td>27.0</td>\n",
       "      <td>83.8</td>\n",
       "      <td>28.7</td>\n",
       "      <td>31.3</td>\n",
       "      <td>29.1</td>\n",
       "      <td>86.261981</td>\n",
       "      <td>143.377663</td>\n",
       "      <td>391.553310</td>\n",
       "    </tr>\n",
       "    <tr>\n",
       "      <th>2</th>\n",
       "      <td>1975</td>\n",
       "      <td>28.7</td>\n",
       "      <td>105.9</td>\n",
       "      <td>35.7</td>\n",
       "      <td>35.6</td>\n",
       "      <td>36.1</td>\n",
       "      <td>80.617978</td>\n",
       "      <td>131.453740</td>\n",
       "      <td>397.792437</td>\n",
       "    </tr>\n",
       "    <tr>\n",
       "      <th>3</th>\n",
       "      <td>1976</td>\n",
       "      <td>36.5</td>\n",
       "      <td>125.2</td>\n",
       "      <td>41.4</td>\n",
       "      <td>43.6</td>\n",
       "      <td>42.1</td>\n",
       "      <td>83.715596</td>\n",
       "      <td>138.049406</td>\n",
       "      <td>405.539130</td>\n",
       "    </tr>\n",
       "    <tr>\n",
       "      <th>4</th>\n",
       "      <td>1977</td>\n",
       "      <td>42.3</td>\n",
       "      <td>145.7</td>\n",
       "      <td>47.0</td>\n",
       "      <td>50.5</td>\n",
       "      <td>48.8</td>\n",
       "      <td>83.762376</td>\n",
       "      <td>137.943648</td>\n",
       "      <td>415.710000</td>\n",
       "    </tr>\n",
       "  </tbody>\n",
       "</table>\n",
       "</div>"
      ],
      "text/plain": [
       "   year  nom_imports  nom_gdp  gdp_defl  nom_price_m   rpi    imports  \\\n",
       "0  1973         18.8     74.0      24.6         21.5  25.1  87.441860   \n",
       "1  1974         27.0     83.8      28.7         31.3  29.1  86.261981   \n",
       "2  1975         28.7    105.9      35.7         35.6  36.1  80.617978   \n",
       "3  1976         36.5    125.2      41.4         43.6  42.1  83.715596   \n",
       "4  1977         42.3    145.7      47.0         50.5  48.8  83.762376   \n",
       "\n",
       "      price_m         gdp  \n",
       "0  114.181275  403.390244  \n",
       "1  143.377663  391.553310  \n",
       "2  131.453740  397.792437  \n",
       "3  138.049406  405.539130  \n",
       "4  137.943648  415.710000  "
      ]
     },
     "execution_count": 5,
     "metadata": {},
     "output_type": "execute_result"
    }
   ],
   "source": [
    "df.head()"
   ]
  },
  {
   "cell_type": "code",
   "execution_count": null,
   "metadata": {},
   "outputs": [],
   "source": [
    "df.tail()"
   ]
  },
  {
   "cell_type": "markdown",
   "metadata": {},
   "source": [
    "## Charts of the data\n",
    "It is first useful to plot the data to get some basic understanding of what is happening."
   ]
  },
  {
   "cell_type": "code",
   "execution_count": 6,
   "metadata": {},
   "outputs": [
    {
     "data": {
      "image/png": "[encoded data removed]",
      "text/plain": [
       "<Figure size 432x288 with 1 Axes>"
      ]
     },
     "metadata": {
      "needs_background": "light"
     },
     "output_type": "display_data"
    }
   ],
   "source": [
    "plt.plot(\"year\", \"imports\", data = df)\n",
    "plt.plot(\"year\", \"gdp\", data = df)\n",
    "\n",
    "# apply labels to axes and title, show legend\n",
    "plt.xlabel('Year')\n",
    "plt.ylabel('Imports, GDP')\n",
    "plt.title('Imports and GDP')\n",
    "plt.legend()                              # Add legend to show which series is which\n",
    "\n",
    "# Display the graph.\n",
    "plt.show()"
   ]
  },
  {
   "cell_type": "code",
   "execution_count": 7,
   "metadata": {},
   "outputs": [
    {
     "data": {
      "image/png": "[encoded data removed]",
      "text/plain": [
       "<Figure size 432x288 with 1 Axes>"
      ]
     },
     "metadata": {
      "needs_background": "light"
     },
     "output_type": "display_data"
    }
   ],
   "source": [
    "plt.plot(\"year\", \"imports\", data = df)\n",
    "plt.plot(\"year\", \"price_m\", data = df)\n",
    "\n",
    "# apply labels to axes and title, show legend\n",
    "plt.xlabel('Year')\n",
    "plt.ylabel('Imports, import prices')\n",
    "plt.title('Imports and import prices')\n",
    "plt.legend()                              # Add legend to show which series is which\n",
    "\n",
    "# Display the graph.\n",
    "plt.show()"
   ]
  },
  {
   "cell_type": "markdown",
   "metadata": {},
   "source": [
    "## Correlation\n",
    "Next we calculate correlations, using the 'corrcoef' method from numpy (np). "
   ]
  },
  {
   "cell_type": "code",
   "execution_count": 8,
   "metadata": {},
   "outputs": [
    {
     "data": {
      "text/plain": [
       "array([[1.        , 0.98826423],\n",
       "       [0.98826423, 1.        ]])"
      ]
     },
     "execution_count": 8,
     "metadata": {},
     "output_type": "execute_result"
    }
   ],
   "source": [
    "np.corrcoef(df['imports'], df['gdp'])"
   ]
  },
  {
   "cell_type": "code",
   "execution_count": 9,
   "metadata": {},
   "outputs": [
    {
     "data": {
      "text/plain": [
       "array([[ 1.        , -0.93048835],\n",
       "       [-0.93048835,  1.        ]])"
      ]
     },
     "execution_count": 9,
     "metadata": {},
     "output_type": "execute_result"
    }
   ],
   "source": [
    "np.corrcoef(df['imports'], df['price_m'])"
   ]
  },
  {
   "cell_type": "markdown",
   "metadata": {},
   "source": [
    "Both correlations are high, over 0.9 in absolute value.  "
   ]
  },
  {
   "cell_type": "markdown",
   "metadata": {},
   "source": [
    "## Linear regression"
   ]
  },
  {
   "cell_type": "markdown",
   "metadata": {},
   "source": [
    "Now calculate an OLS regression.  We use the data 1973-2003 (31 observations) for estimation.  Later observations can be used for prediction purposes, to help evaluate the model."
   ]
  },
  {
   "cell_type": "code",
   "execution_count": 10,
   "metadata": {},
   "outputs": [
    {
     "name": "stdout",
     "output_type": "stream",
     "text": [
      "                            OLS Regression Results                            \n",
      "==============================================================================\n",
      "Dep. Variable:                imports   R-squared:                       0.963\n",
      "Model:                            OLS   Adj. R-squared:                  0.961\n",
      "Method:                 Least Squares   F-statistic:                     368.7\n",
      "Date:                Wed, 15 Sep 2021   Prob (F-statistic):           7.70e-21\n",
      "Time:                        12:05:59   Log-Likelihood:                -122.47\n",
      "No. Observations:                  31   AIC:                             250.9\n",
      "Df Residuals:                      28   BIC:                             255.2\n",
      "Df Model:                           2                                         \n",
      "Covariance Type:            nonrobust                                         \n",
      "==============================================================================\n",
      "                 coef    std err          t      P>|t|      [0.025      0.975]\n",
      "------------------------------------------------------------------------------\n",
      "Intercept   -172.2285     73.154     -2.354      0.026    -322.078     -22.379\n",
      "gdp            0.5848      0.064      9.140      0.000       0.454       0.716\n",
      "price_m        0.0441      0.364      0.121      0.905      -0.702       0.790\n",
      "==============================================================================\n",
      "Omnibus:                        5.149   Durbin-Watson:                   0.167\n",
      "Prob(Omnibus):                  0.076   Jarque-Bera (JB):                2.088\n",
      "Skew:                           0.274   Prob(JB):                        0.352\n",
      "Kurtosis:                       1.853   Cond. No.                     1.72e+04\n",
      "==============================================================================\n",
      "\n",
      "Notes:\n",
      "[1] Standard Errors assume that the covariance matrix of the errors is correctly specified.\n",
      "[2] The condition number is large, 1.72e+04. This might indicate that there are\n",
      "strong multicollinearity or other numerical problems.\n"
     ]
    }
   ],
   "source": [
    "model = smf.ols('imports ~ gdp + price_m', data=df[0:31])\n",
    "results = model.fit()\n",
    "print(results.summary())"
   ]
  },
  {
   "cell_type": "markdown",
   "metadata": {},
   "source": [
    "## Predictions\n",
    "It is not too difficult to see how well the model predicts out-of-sample.  "
   ]
  },
  {
   "cell_type": "code",
   "execution_count": 11,
   "metadata": {},
   "outputs": [],
   "source": [
    "predict = results.predict(df)                            # Predicts for all observations in sample, 1973-2010"
   ]
  },
  {
   "cell_type": "code",
   "execution_count": 12,
   "metadata": {},
   "outputs": [],
   "source": [
    "df['predictions'] = predict                              # Add the predictions to the dataframe (helpful for charts)"
   ]
  },
  {
   "cell_type": "code",
   "execution_count": 13,
   "metadata": {},
   "outputs": [
    {
     "name": "stdout",
     "output_type": "stream",
     "text": [
      "    year     imports  predictions\n",
      "31  2004  314.218456   289.992302\n",
      "32  2005  331.074977   298.607450\n",
      "33  2006  361.457419   311.579074\n",
      "34  2007  358.735733   324.421776\n",
      "35  2008  348.003072   320.262284\n",
      "36  2009  310.368144   299.808517\n",
      "37  2010  332.434351   309.474122\n"
     ]
    }
   ],
   "source": [
    "print(df[['year', 'imports', 'predictions']][31:])       # Print imports and predictions for post-estimation period"
   ]
  },
  {
   "cell_type": "markdown",
   "metadata": {},
   "source": [
    "Now we will plot both imports and predicted values."
   ]
  },
  {
   "cell_type": "code",
   "execution_count": 14,
   "metadata": {},
   "outputs": [
    {
     "data": {
      "image/png": "[encoded data removed]",
      "text/plain": [
       "<Figure size 432x288 with 1 Axes>"
      ]
     },
     "metadata": {
      "needs_background": "light"
     },
     "output_type": "display_data"
    }
   ],
   "source": [
    "plt.plot(\"year\", \"imports\", data = df)\n",
    "plt.plot(\"year\", 'predictions', data = df)\n",
    "\n",
    "# apply labels to axes and title, show legend\n",
    "plt.xlabel('Year')\n",
    "plt.ylabel('')\n",
    "plt.title('')\n",
    "plt.legend()                              # Add legend to show which series is which\n",
    "\n",
    "# Display the graph.\n",
    "plt.show()"
   ]
  },
  {
   "cell_type": "markdown",
   "metadata": {},
   "source": [
    "## Regression in logs\n",
    "As suggested in the book, the forecasting performance is not great, the model does not catch the surging imports after 2003. It may be that a model in logs is more suitable.  First we need to generate the log variables."
   ]
  },
  {
   "cell_type": "code",
   "execution_count": 15,
   "metadata": {},
   "outputs": [],
   "source": [
    "df['limports'] = np.log(df['imports'])                      #  The log function is part of the np library\n",
    "df['lgdp'] = np.log(df['gdp'])\n",
    "df['lprice_m'] = np.log(df['price_m'])"
   ]
  },
  {
   "cell_type": "code",
   "execution_count": 16,
   "metadata": {},
   "outputs": [
    {
     "name": "stdout",
     "output_type": "stream",
     "text": [
      "                            OLS Regression Results                            \n",
      "==============================================================================\n",
      "Dep. Variable:               limports   R-squared:                       0.985\n",
      "Model:                            OLS   Adj. R-squared:                  0.984\n",
      "Method:                 Least Squares   F-statistic:                     902.1\n",
      "Date:                Wed, 15 Sep 2021   Prob (F-statistic):           3.79e-26\n",
      "Time:                        12:07:10   Log-Likelihood:                 47.929\n",
      "No. Observations:                  31   AIC:                            -89.86\n",
      "Df Residuals:                      28   BIC:                            -85.56\n",
      "Df Model:                           2                                         \n",
      "Covariance Type:            nonrobust                                         \n",
      "==============================================================================\n",
      "                 coef    std err          t      P>|t|      [0.025      0.975]\n",
      "------------------------------------------------------------------------------\n",
      "Intercept     -3.6049      1.650     -2.185      0.037      -6.984      -0.226\n",
      "lgdp           1.6648      0.147     11.342      0.000       1.364       1.965\n",
      "lprice_m      -0.4122      0.161     -2.561      0.016      -0.742      -0.083\n",
      "==============================================================================\n",
      "Omnibus:                        9.185   Durbin-Watson:                   0.851\n",
      "Prob(Omnibus):                  0.010   Jarque-Bera (JB):                7.940\n",
      "Skew:                           0.957   Prob(JB):                       0.0189\n",
      "Kurtosis:                       4.576   Cond. No.                     1.35e+03\n",
      "==============================================================================\n",
      "\n",
      "Notes:\n",
      "[1] Standard Errors assume that the covariance matrix of the errors is correctly specified.\n",
      "[2] The condition number is large, 1.35e+03. This might indicate that there are\n",
      "strong multicollinearity or other numerical problems.\n"
     ]
    }
   ],
   "source": [
    "model2 = smf.ols('limports ~ lgdp + lprice_m', data=df[0:31])    # We refer to the log regression as model2\n",
    "results2 = model2.fit()                                          # Similarly the results are collected in results2\n",
    "print(results2.summary())"
   ]
  },
  {
   "cell_type": "markdown",
   "metadata": {},
   "source": [
    "## Predictions"
   ]
  },
  {
   "cell_type": "code",
   "execution_count": 17,
   "metadata": {},
   "outputs": [],
   "source": [
    "lpredict = results2.predict(df)"
   ]
  },
  {
   "cell_type": "code",
   "execution_count": 18,
   "metadata": {},
   "outputs": [],
   "source": [
    "df['lpredictions'] = lpredict"
   ]
  },
  {
   "cell_type": "code",
   "execution_count": 19,
   "metadata": {
    "scrolled": true
   },
   "outputs": [
    {
     "data": {
      "image/png": "[encoded data removed]",
      "text/plain": [
       "<Figure size 432x288 with 1 Axes>"
      ]
     },
     "metadata": {
      "needs_background": "light"
     },
     "output_type": "display_data"
    }
   ],
   "source": [
    "plt.plot(\"year\", \"limports\",  data = df)\n",
    "plt.plot(\"year\", 'lpredictions', data = df)\n",
    "\n",
    "# apply labels to axes and title, show legend\n",
    "plt.xlabel('Year')\n",
    "plt.ylabel('Imports')\n",
    "plt.title('Imports - actual vs predicted')\n",
    "plt.legend()                              \n",
    "\n",
    "# Display the graph.\n",
    "plt.show()"
   ]
  },
  {
   "cell_type": "markdown",
   "metadata": {},
   "source": [
    "Transforming log predictions back into actual values"
   ]
  },
  {
   "cell_type": "code",
   "execution_count": 20,
   "metadata": {},
   "outputs": [],
   "source": [
    "df['predictions2'] = np.exp(df['lpredictions'])"
   ]
  },
  {
   "cell_type": "code",
   "execution_count": 21,
   "metadata": {},
   "outputs": [
    {
     "name": "stdout",
     "output_type": "stream",
     "text": [
      "    year     imports  predictions2\n",
      "31  2004  314.218456    308.186039\n",
      "32  2005  331.074977    315.992906\n",
      "33  2006  361.457419    331.077588\n",
      "34  2007  358.735733    352.148039\n",
      "35  2008  348.003072    333.588091\n",
      "36  2009  310.368144    307.107338\n",
      "37  2010  332.434351    316.179498\n"
     ]
    }
   ],
   "source": [
    "print(df[['year', 'imports', 'predictions2']][31:])"
   ]
  },
  {
   "cell_type": "markdown",
   "metadata": {},
   "source": [
    "## Test of compound hypothesis\n",
    "Such tests may be conducted as a Chow test, as discussed in the book.  We replicate that analysis here.  We test for money illusion in the import demand function.  In other words, should we use the real price of imports as an explanatory variable, or include both the nominal price of imports and the RPI?  (All of this using equations in logs.)\n",
    "If we cannot reject the hypothesis that the coefficients of nominal import prices and the RPI are equal and opposite then we can use the simpler model with just the real import price.  \n",
    "First we create the logarithms of nominal import prices and of the rpi."
   ]
  },
  {
   "cell_type": "code",
   "execution_count": null,
   "metadata": {},
   "outputs": [],
   "source": [
    "#print(results.f_test(\"gdp = price_m = 0\"))"
   ]
  },
  {
   "cell_type": "code",
   "execution_count": 22,
   "metadata": {},
   "outputs": [],
   "source": [
    "df['lnom_price_m'] = np.log(df['nom_price_m'])\n",
    "df['lrpi'] = np.log(df['rpi'])"
   ]
  },
  {
   "cell_type": "markdown",
   "metadata": {},
   "source": [
    "Now we estimate a model (model3) which includes these two variables (as well as real gdp)."
   ]
  },
  {
   "cell_type": "code",
   "execution_count": 23,
   "metadata": {},
   "outputs": [
    {
     "name": "stdout",
     "output_type": "stream",
     "text": [
      "                            OLS Regression Results                            \n",
      "==============================================================================\n",
      "Dep. Variable:               limports   R-squared:                       0.995\n",
      "Model:                            OLS   Adj. R-squared:                  0.994\n",
      "Method:                 Least Squares   F-statistic:                     1785.\n",
      "Date:                Wed, 15 Sep 2021   Prob (F-statistic):           3.84e-31\n",
      "Time:                        12:08:10   Log-Likelihood:                 65.193\n",
      "No. Observations:                  31   AIC:                            -122.4\n",
      "Df Residuals:                      27   BIC:                            -116.6\n",
      "Df Model:                           3                                         \n",
      "Covariance Type:            nonrobust                                         \n",
      "================================================================================\n",
      "                   coef    std err          t      P>|t|      [0.025      0.975]\n",
      "--------------------------------------------------------------------------------\n",
      "Intercept       -8.7673      0.669    -13.114      0.000     -10.139      -7.396\n",
      "lgdp             2.3069      0.122     18.962      0.000       2.057       2.557\n",
      "lnom_price_m    -0.1975      0.098     -2.010      0.054      -0.399       0.004\n",
      "lrpi             0.0172      0.108      0.159      0.875      -0.204       0.239\n",
      "==============================================================================\n",
      "Omnibus:                        0.905   Durbin-Watson:                   2.065\n",
      "Prob(Omnibus):                  0.636   Jarque-Bera (JB):                0.262\n",
      "Skew:                           0.194   Prob(JB):                        0.877\n",
      "Kurtosis:                       3.229   Cond. No.                     1.10e+03\n",
      "==============================================================================\n",
      "\n",
      "Notes:\n",
      "[1] Standard Errors assume that the covariance matrix of the errors is correctly specified.\n",
      "[2] The condition number is large, 1.1e+03. This might indicate that there are\n",
      "strong multicollinearity or other numerical problems.\n"
     ]
    }
   ],
   "source": [
    "model3 = smf.ols('limports ~ lgdp + lnom_price_m + lrpi', data=df[0:31])\n",
    "results3 = model3.fit()\n",
    "print(results3.summary())"
   ]
  },
  {
   "cell_type": "markdown",
   "metadata": {},
   "source": [
    "Now we test for the equality of the coefficients.  We obtain the same value as obtained in the book for the Chow test."
   ]
  },
  {
   "cell_type": "code",
   "execution_count": 24,
   "metadata": {},
   "outputs": [
    {
     "name": "stdout",
     "output_type": "stream",
     "text": [
      "<F test: F=array([[55.23733946]]), p=5.3898961642488436e-08, df_denom=27, df_num=1>\n"
     ]
    }
   ],
   "source": [
    "print(results3.f_test(\"lnom_price_m = -lrpi\"))"
   ]
  },
  {
   "cell_type": "markdown",
   "metadata": {},
   "source": [
    "## Dummy variables\n"
   ]
  },
  {
   "cell_type": "markdown",
   "metadata": {},
   "source": [
    "Creating dummy variables in Python is done in the following manner. As in the book, we create a dummy variable which is 0 for 1973-78, 1 for 1979 and after.  The code is a little convoluted."
   ]
  },
  {
   "cell_type": "code",
   "execution_count": 25,
   "metadata": {},
   "outputs": [],
   "source": [
    "nsample = 38                                    # Create a variable for the dummy\n",
    "groups = np.zeros(nsample, int)                 # Set all obs = 0\n",
    "groups[6:] = 1                                  # Set obs after 1978 = 1\n",
    "dummy = pd.get_dummies(groups).values           # Creates two dummies from the variable groups. \n",
    "df2 = DataFrame(dummy,columns=['pre','post'])   # Add the dummies to a new dataframe, calling them 'Pre' and 'Post'\n",
    "df = pd.concat([df, df2], axis = 1)             # Merge with the original dataframe"
   ]
  },
  {
   "cell_type": "markdown",
   "metadata": {},
   "source": [
    "Now estimate a new model with the dummy variable.  We only include one of the two dummies we created."
   ]
  },
  {
   "cell_type": "code",
   "execution_count": 26,
   "metadata": {
    "scrolled": true
   },
   "outputs": [
    {
     "name": "stdout",
     "output_type": "stream",
     "text": [
      "                            OLS Regression Results                            \n",
      "==============================================================================\n",
      "Dep. Variable:               limports   R-squared:                       0.991\n",
      "Model:                            OLS   Adj. R-squared:                  0.990\n",
      "Method:                 Least Squares   F-statistic:                     1029.\n",
      "Date:                Wed, 15 Sep 2021   Prob (F-statistic):           6.16e-28\n",
      "Time:                        12:09:25   Log-Likelihood:                 56.717\n",
      "No. Observations:                  31   AIC:                            -105.4\n",
      "Df Residuals:                      27   BIC:                            -99.70\n",
      "Df Model:                           3                                         \n",
      "Covariance Type:            nonrobust                                         \n",
      "==============================================================================\n",
      "                 coef    std err          t      P>|t|      [0.025      0.975]\n",
      "------------------------------------------------------------------------------\n",
      "Intercept     -4.9767      1.301     -3.826      0.001      -7.646      -2.308\n",
      "lgdp           1.8495      0.120     15.450      0.000       1.604       2.095\n",
      "lprice_m      -0.3474      0.124     -2.796      0.009      -0.602      -0.092\n",
      "post          -0.1092      0.024     -4.539      0.000      -0.159      -0.060\n",
      "==============================================================================\n",
      "Omnibus:                       10.092   Durbin-Watson:                   1.951\n",
      "Prob(Omnibus):                  0.006   Jarque-Bera (JB):                9.322\n",
      "Skew:                           0.988   Prob(JB):                      0.00946\n",
      "Kurtosis:                       4.820   Cond. No.                     1.39e+03\n",
      "==============================================================================\n",
      "\n",
      "Notes:\n",
      "[1] Standard Errors assume that the covariance matrix of the errors is correctly specified.\n",
      "[2] The condition number is large, 1.39e+03. This might indicate that there are\n",
      "strong multicollinearity or other numerical problems.\n"
     ]
    }
   ],
   "source": [
    "model4 = smf.ols('limports ~ lgdp + lprice_m + post', data=df[0:31])\n",
    "results4 = model4.fit()\n",
    "print(results4.summary())"
   ]
  },
  {
   "cell_type": "code",
   "execution_count": null,
   "metadata": {},
   "outputs": [],
   "source": []
  }
 ],
 "metadata": {
  "hide_input": false,
  "kernelspec": {
   "display_name": "Python 3",
   "language": "python",
   "name": "python3"
  },
  "language_info": {
   "codemirror_mode": {
    "name": "ipython",
    "version": 3
   },
   "file_extension": ".py",
   "mimetype": "text/x-python",
   "name": "python",
   "nbconvert_exporter": "python",
   "pygments_lexer": "ipython3",
   "version": "3.8.5"
  }
 },
 "nbformat": 4,
 "nbformat_minor": 4
}
